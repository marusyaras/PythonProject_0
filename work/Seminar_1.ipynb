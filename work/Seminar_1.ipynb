{
 "cells": [
  {
   "cell_type": "markdown",
   "metadata": {},
   "source": [
    "# Задание 1"
   ]
  },
  {
   "cell_type": "code",
   "execution_count": 58,
   "metadata": {},
   "outputs": [
    {
     "name": "stdout",
     "output_type": "stream",
     "text": [
      "the\n",
      "and\n",
      "to\n",
      "a\n",
      "of\n",
      "she\n",
      "said\n",
      "it\n",
      "Alice\n",
      "in\n",
      "was\n",
      "you\n",
      "I\n",
      "as\n",
      "her\n",
      "that\n",
      "at\n",
      "on\n",
      "had\n",
      "with\n"
     ]
    }
   ],
   "source": [
    "dic={}\n",
    "with open('alice.txt', 'r', encoding='utf-8') as f:\n",
    "    for l in f:  \n",
    "        for ink in l:\n",
    "            if ink in '.,!?;':\n",
    "                l=l.replace(ink, '')\n",
    "        k=l.split()\n",
    "        for word in k:\n",
    "            if dic.get(word, 0)==0:\n",
    "                dic[word]=1\n",
    "            else:\n",
    "                dic[word]=dic[word]+1\n",
    "    for _ in range(20):\n",
    "        maxim=0\n",
    "        maxind=''\n",
    "        for key in dic:\n",
    "            if dic[key]>maxim: \n",
    "                maxim=dic[key]\n",
    "                maxind=key\n",
    "        print(maxind) \n",
    "        dic[maxind]=0"
   ]
  },
  {
   "cell_type": "code",
   "execution_count": null,
   "metadata": {},
   "outputs": [],
   "source": []
  }
 ],
 "metadata": {
  "kernelspec": {
   "display_name": "Python 3",
   "language": "python",
   "name": "python3"
  },
  "language_info": {
   "codemirror_mode": {
    "name": "ipython",
    "version": 3
   },
   "file_extension": ".py",
   "mimetype": "text/x-python",
   "name": "python",
   "nbconvert_exporter": "python",
   "pygments_lexer": "ipython3",
   "version": "3.7.3"
  }
 },
 "nbformat": 4,
 "nbformat_minor": 2
}
