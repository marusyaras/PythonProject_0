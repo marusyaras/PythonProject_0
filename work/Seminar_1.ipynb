{
 "cells": [
  {
   "cell_type": "markdown",
   "metadata": {},
   "source": [
    "# Задание 1"
   ]
  },
  {
   "cell_type": "code",
   "execution_count": 48,
   "metadata": {},
   "outputs": [
    {
     "name": "stdout",
     "output_type": "stream",
     "text": [
      "the\n",
      "1514\n",
      "and\n",
      "740\n",
      "to\n",
      "724\n",
      "a\n",
      "608\n",
      "of\n",
      "499\n",
      "she\n",
      "487\n",
      "said\n",
      "446\n",
      "it\n",
      "409\n",
      "Alice\n",
      "370\n",
      "in\n",
      "352\n",
      "was\n",
      "342\n",
      "you\n",
      "291\n",
      "I\n",
      "263\n",
      "as\n",
      "247\n",
      "her\n",
      "237\n",
      "that\n",
      "223\n",
      "at\n",
      "197\n",
      "on\n",
      "177\n",
      "had\n",
      "175\n",
      "with\n",
      "174\n"
     ]
    }
   ],
   "source": [
    "dic={}\n",
    "with open('alice.txt', 'r', encoding='utf-8') as f:\n",
    "    for l in f:  \n",
    "        for ink in l:\n",
    "            if ink in '.,!?;':\n",
    "                l=l.replace(ink, '')\n",
    "        k=l.split()\n",
    "        for word in k:\n",
    "            if dic.get(word, 0)==0:\n",
    "                dic[word]=1\n",
    "            else:\n",
    "                dic[word]=dic[word]+1\n",
    "    for _ in range(20):\n",
    "        maxim=0\n",
    "        maxind=''\n",
    "        for key in dic:\n",
    "            if dic[key]>maxim: \n",
    "                maxim=dic[key]\n",
    "                maxind=key\n",
    "        print(maxind) \n",
    "        print (dic[maxind])\n",
    "        dic[maxind]=0"
   ]
  },
  {
   "cell_type": "markdown",
   "metadata": {},
   "source": [
    "# Задание 2"
   ]
  },
  {
   "cell_type": "code",
   "execution_count": 56,
   "metadata": {},
   "outputs": [
    {
     "name": "stdout",
     "output_type": "stream",
     "text": [
      "[21, 36, 51, 66, 100]\n",
      "['   \\\\begindata', '', '      FRAME_EDM_LANDER                 = -117000', \"      FRAME_-117000_NAME               = 'EDM_LANDER'\", '      FRAME_-117000_CLASS              =  3', '      FRAME_-117000_CLASS_ID           = -117000', '      FRAME_-117000_CENTER             = -117', '      CK_-117000_SCLK                  = -117', '      CK_-117000_SPK                   = -117', \"      OBJECT_-117_FRAME                = 'EDM_LANDER'\", '', '      FRAME_EDM_LANDER_CRUISE          = -117001', \"      FRAME_-117001_NAME               = 'EDM_LANDER_CRUISE'\", '      FRAME_-117001_CLASS              =  3', '      FRAME_-117001_CLASS_ID           = -117001', '      FRAME_-117001_CENTER             = -117', '      CK_-117001_SCLK                  = -117', '      CK_-117001_SPK                   = -117', \"      OBJECT_-117_FRAME                = 'EDM_LANDER_CRUISE'\", '']\n"
     ]
    }
   ],
   "source": [
    "flag = 0\n",
    "fl=0\n",
    "lst=[]\n",
    "lstcount=[]\n",
    "with open('em16_edm_v00.tf.txt', 'r', encoding='utf-8') as f:\n",
    "    for l in f:\n",
    "        m = l.split()\n",
    "        for k in m:\n",
    "            if(k=='\\\\begindata'):\n",
    "                flag = 1\n",
    "            if(k=='\\\\begintext'):\n",
    "                flag = 0\n",
    "                fl=1\n",
    "        if(flag==1 or fl==1):\n",
    "            l = l[:-1]\n",
    "            lst+=[l]\n",
    "            if (fl==1):\n",
    "                lstcount.append(len(lst))\n",
    "        fl=0\n",
    "print(lstcount) \n",
    "diclist=[]\n",
    "for i in range(len(lstcount)):\n",
    "    if(i==0):\n",
    "        m=lst[:20]\n",
    "        \n"
   ]
  },
  {
   "cell_type": "code",
   "execution_count": null,
   "metadata": {},
   "outputs": [],
   "source": []
  }
 ],
 "metadata": {
  "kernelspec": {
   "display_name": "Python 3",
   "language": "python",
   "name": "python3"
  },
  "language_info": {
   "codemirror_mode": {
    "name": "ipython",
    "version": 3
   },
   "file_extension": ".py",
   "mimetype": "text/x-python",
   "name": "python",
   "nbconvert_exporter": "python",
   "pygments_lexer": "ipython3",
   "version": "3.7.3"
  }
 },
 "nbformat": 4,
 "nbformat_minor": 2
}
