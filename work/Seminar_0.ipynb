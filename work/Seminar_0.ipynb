{
 "cells": [
  {
   "cell_type": "markdown",
   "metadata": {},
   "source": [
    "# Задание 1"
   ]
  },
  {
   "cell_type": "code",
   "execution_count": 3,
   "metadata": {},
   "outputs": [],
   "source": [
    "s = 'Это очень просто. Ножницы режут бумагу, бумага накрывает камень, камень давит ящерицу, ящерица травит Спока, Спок ломает ножницы, ножницы отрезают голову ящерице, ящерица ест бумагу, бумага ложится под Спока, Спок испаряет камень, и, как обычно, камень разбивает ножницы.'\n"
   ]
  },
  {
   "cell_type": "code",
   "execution_count": 4,
   "metadata": {},
   "outputs": [
    {
     "data": {
      "text/plain": [
       "'ножницы режут бумагу, бумага накрывает камень, камень давит ящерицу, ящерица травит спока, спок ломает ножницы, ножницы отрезают голову ящерице, ящерица ест бумагу, бумага ложится под спока, спок испаряет камень, камень разбивает ножницы'"
      ]
     },
     "execution_count": 4,
     "metadata": {},
     "output_type": "execute_result"
    }
   ],
   "source": [
    "m=s.lower()[s.find('Ножницы'):s.find('и, как обычно')] + s[-25:-1]\n",
    "m"
   ]
  },
  {
   "cell_type": "code",
   "execution_count": 5,
   "metadata": {},
   "outputs": [
    {
     "name": "stdout",
     "output_type": "stream",
     "text": [
      "Граф полный!\n"
     ]
    }
   ],
   "source": [
    "if m.count('ножн')==4 and m.count('спок')==4 and m.count('камень')==4 and m.count('бумаг')==4 and m.count('ящериц')==4:\n",
    "    print('Граф полный!')\n",
    "else:\n",
    "    print('Граф неполный :(')"
   ]
  },
  {
   "cell_type": "markdown",
   "metadata": {},
   "source": [
    "# Задание 2"
   ]
  },
  {
   "cell_type": "code",
   "execution_count": 6,
   "metadata": {},
   "outputs": [
    {
     "data": {
      "text/plain": [
       "['ножницы режут бумагу',\n",
       " 'бумага накрывает камень',\n",
       " 'камень давит ящерицу',\n",
       " 'ящерица травит спока',\n",
       " 'спок ломает ножницы',\n",
       " 'ножницы отрезают голову ящерице',\n",
       " 'ящерица ест бумагу',\n",
       " 'бумага ложится под спока',\n",
       " 'спок испаряет камень',\n",
       " 'камень разбивает ножницы']"
      ]
     },
     "execution_count": 6,
     "metadata": {},
     "output_type": "execute_result"
    }
   ],
   "source": [
    "k=m.split(', ')\n",
    "k"
   ]
  },
  {
   "cell_type": "code",
   "execution_count": 7,
   "metadata": {},
   "outputs": [
    {
     "data": {
      "text/plain": [
       "{'режут': ('ножницы', 'бумагу'),\n",
       " 'накрывает': ('бумага', 'камень'),\n",
       " 'давит': ('камень', 'ящерицу'),\n",
       " 'травит': ('ящерица', 'спока'),\n",
       " 'ломает': ('спок', 'ножницы'),\n",
       " 'отрезаютголову': ('ножницы', 'ящерице'),\n",
       " 'ест': ('ящерица', 'бумагу'),\n",
       " 'ложитсяпод': ('бумага', 'спока'),\n",
       " 'испаряет': ('спок', 'камень'),\n",
       " 'разбивает': ('камень', 'ножницы')}"
      ]
     },
     "execution_count": 7,
     "metadata": {},
     "output_type": "execute_result"
    }
   ],
   "source": [
    "dic = {}\n",
    "for i in k:\n",
    "    j=i.split()\n",
    "    if (len(j)==3):\n",
    "        dic[j[1]] = (j[0], j[2])\n",
    "    else:\n",
    "        dic[j[1]+' '+j[2]] = (j[0], j[3])\n",
    "dic"
   ]
  },
  {
   "cell_type": "code",
   "execution_count": null,
   "metadata": {},
   "outputs": [],
   "source": []
  }
 ],
 "metadata": {
  "kernelspec": {
   "display_name": "Python 3",
   "language": "python",
   "name": "python3"
  },
  "language_info": {
   "codemirror_mode": {
    "name": "ipython",
    "version": 3
   },
   "file_extension": ".py",
   "mimetype": "text/x-python",
   "name": "python",
   "nbconvert_exporter": "python",
   "pygments_lexer": "ipython3",
   "version": "3.7.3"
  }
 },
 "nbformat": 4,
 "nbformat_minor": 2
}
